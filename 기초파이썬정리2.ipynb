{
 "cells": [
  {
   "cell_type": "markdown",
   "metadata": {},
   "source": [
    "7.조건문"
   ]
  },
  {
   "cell_type": "code",
   "execution_count": 1,
   "metadata": {},
   "outputs": [
    {
     "name": "stdout",
     "output_type": "stream",
     "text": [
      "성적을 입력하시오 : 80\n",
      "축하합니다\n",
      "수고하셨습니다\n"
     ]
    }
   ],
   "source": [
    "score = int(input('성적을 입력하시오 : '))\n",
    "\n",
    "if score >= 70 :\n",
    "    print('축하합니다')\n",
    "print('수고하셨습니다')"
   ]
  },
  {
   "cell_type": "code",
   "execution_count": 2,
   "metadata": {},
   "outputs": [
    {
     "name": "stdout",
     "output_type": "stream",
     "text": [
      "정수를 입력하시오 : 3\n",
      "3 는 홀수입니다.\n",
      "프로그램 종료\n"
     ]
    }
   ],
   "source": [
    "number = int(input('정수를 입력하시오 : '))\n",
    "\n",
    "if number%2 == 0:\n",
    "    print(number, '는 짝수입니다.')\n",
    "else :\n",
    "    print(number, '는 홀수입니다.')\n",
    "print('프로그램 종료')\n"
   ]
  },
  {
   "cell_type": "code",
   "execution_count": 3,
   "metadata": {},
   "outputs": [
    {
     "name": "stdout",
     "output_type": "stream",
     "text": [
      "성적을 입력하시오 : 69\n",
      "당신의 학점은 D입니다.\n"
     ]
    }
   ],
   "source": [
    "score = int(input('성적을 입력하시오 : '))\n",
    "\n",
    "if score >= 90 :\n",
    "    print('당신의 학점은 A입니다.')\n",
    "elif 80 <= score <= 90 :\n",
    "    print('당신의 학점은 B입니다.')\n",
    "elif 70 <= score <= 80 :\n",
    "    print('당신의 학점은 C입니다.')\n",
    "else :\n",
    "    print('당신의 학점은 D입니다.')"
   ]
  },
  {
   "cell_type": "code",
   "execution_count": 5,
   "metadata": {},
   "outputs": [
    {
     "name": "stdout",
     "output_type": "stream",
     "text": [
      "성적을 입력하시오 : 69\n",
      "당신의 학점은 D 입니다.\n"
     ]
    }
   ],
   "source": [
    "score = int(input('성적을 입력하시오 : '))\n",
    "if score >= 90 :\n",
    "    grade = 'A'\n",
    "elif 80 <= score < 90 : # elif 80 <= score :\n",
    "    grade = 'B'\n",
    "elif 70 <= score < 80 : # elif 70 <= score :\n",
    "    grade = 'C'\n",
    "else:\n",
    "    grade = 'D'\n",
    "print('당신의 학점은', grade, '입니다.')"
   ]
  },
  {
   "cell_type": "markdown",
   "metadata": {},
   "source": [
    "8.while 반복문"
   ]
  },
  {
   "cell_type": "code",
   "execution_count": 6,
   "metadata": {},
   "outputs": [
    {
     "name": "stdout",
     "output_type": "stream",
     "text": [
      "1\n",
      "2\n",
      "3\n",
      "4\n",
      "5\n"
     ]
    }
   ],
   "source": [
    "a = 1\n",
    "while a<=5 :\n",
    "    print(a)\n",
    "    a += 1"
   ]
  },
  {
   "cell_type": "code",
   "execution_count": 10,
   "metadata": {},
   "outputs": [
    {
     "name": "stdout",
     "output_type": "stream",
     "text": [
      "sum: 55\n"
     ]
    }
   ],
   "source": [
    "a = 1\n",
    "sum = 0\n",
    "while a<= 10:\n",
    "    sum += a\n",
    "    a += 1\n",
    "print('sum:', sum)"
   ]
  },
  {
   "cell_type": "code",
   "execution_count": 8,
   "metadata": {},
   "outputs": [
    {
     "ename": "TypeError",
     "evalue": "'int' object is not callable",
     "output_type": "error",
     "traceback": [
      "\u001b[1;31m---------------------------------------------------------------------------\u001b[0m",
      "\u001b[1;31mTypeError\u001b[0m                                 Traceback (most recent call last)",
      "\u001b[1;32m<ipython-input-8-79a50bbc72ab>\u001b[0m in \u001b[0;36m<module>\u001b[1;34m\u001b[0m\n\u001b[1;32m----> 1\u001b[1;33m \u001b[0msum\u001b[0m\u001b[1;33m(\u001b[0m\u001b[0mrange\u001b[0m\u001b[1;33m(\u001b[0m\u001b[1;36m11\u001b[0m\u001b[1;33m)\u001b[0m\u001b[1;33m)\u001b[0m\u001b[1;33m\u001b[0m\u001b[1;33m\u001b[0m\u001b[0m\n\u001b[0m",
      "\u001b[1;31mTypeError\u001b[0m: 'int' object is not callable"
     ]
    }
   ],
   "source": []
  },
  {
   "cell_type": "code",
   "execution_count": 12,
   "metadata": {},
   "outputs": [
    {
     "name": "stdout",
     "output_type": "stream",
     "text": [
      "  2  4  6  8 10 12 14 16 18 20\n",
      "  3  6  9 12 15 18 21 24 27 30\n",
      "  4  8 12 16 20 24 28 32 36 40\n",
      "  5 10 15 20 25 30 35 40 45 50\n",
      "  6 12 18 24 30 36 42 48 54 60\n",
      "  7 14 21 28 35 42 49 56 63 70\n",
      "  8 16 24 32 40 48 56 64 72 80\n",
      "  9 18 27 36 45 54 63 72 81 90\n"
     ]
    }
   ],
   "source": [
    "dan = 2\n",
    "\n",
    "while dan <= 9 :\n",
    "    n = 1\n",
    "    while n<= 10 :\n",
    "        value = dan*n\n",
    "        print('%3d' % (value), end='')\n",
    "        n += 1\n",
    "    print()\n",
    "    dan += 1"
   ]
  },
  {
   "cell_type": "code",
   "execution_count": null,
   "metadata": {},
   "outputs": [],
   "source": []
  }
 ],
 "metadata": {
  "kernelspec": {
   "display_name": "Python 3",
   "language": "python",
   "name": "python3"
  },
  "language_info": {
   "codemirror_mode": {
    "name": "ipython",
    "version": 3
   },
   "file_extension": ".py",
   "mimetype": "text/x-python",
   "name": "python",
   "nbconvert_exporter": "python",
   "pygments_lexer": "ipython3",
   "version": "3.7.1"
  }
 },
 "nbformat": 4,
 "nbformat_minor": 2
}
