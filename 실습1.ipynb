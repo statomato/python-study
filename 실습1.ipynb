{
 "cells": [
  {
   "cell_type": "code",
   "execution_count": 1,
   "metadata": {},
   "outputs": [],
   "source": [
    "import math"
   ]
  },
  {
   "cell_type": "markdown",
   "metadata": {},
   "source": [
    "문제1"
   ]
  },
  {
   "cell_type": "code",
   "execution_count": 3,
   "metadata": {},
   "outputs": [
    {
     "name": "stdout",
     "output_type": "stream",
     "text": [
      "국어 성적을 입력하세요 : 78\n",
      "수학 성적을 입력하세요 : 90\n",
      "영어 성적을 입력하세요 : 86\n",
      "\n",
      "입력받은 성적\n",
      "---------------\n",
      "국어 성적 :  78\n",
      "수학 성적 :  90\n",
      "영어 성적 :  86\n",
      "\n",
      "---------------\n",
      "총점 :  254\n",
      "평균 :  84.66666666666667\n"
     ]
    }
   ],
   "source": [
    "korean = int(input('국어 성적을 입력하세요 : '))\n",
    "math = int(input('수학 성적을 입력하세요 : '))\n",
    "english = int(input('영어 성적을 입력하세요 : '))\n",
    "\n",
    "print()\n",
    "print('입력받은 성적')\n",
    "print('---------------')\n",
    "print('국어 성적 : ', korean)\n",
    "print('수학 성적 : ', math)\n",
    "print('영어 성적 : ',english)\n",
    "print()\n",
    "print('---------------')\n",
    "\n",
    "total = korean + math + english\n",
    "avg = total/3\n",
    "\n",
    "print('총점 : ', total)\n",
    "print('평균 : ', avg)"
   ]
  },
  {
   "cell_type": "markdown",
   "metadata": {},
   "source": [
    "문제2"
   ]
  },
  {
   "cell_type": "code",
   "execution_count": 4,
   "metadata": {},
   "outputs": [
    {
     "name": "stdout",
     "output_type": "stream",
     "text": [
      "반지름을 입력하시오 : 5\n",
      "반지름 :  5\n",
      "원의 넓이 :  78.5398\n",
      "원의 둘레 :  31.41592\n"
     ]
    }
   ],
   "source": [
    "r = int(input('반지름을 입력하시오 : '))\n",
    "print('반지름 : ', r)\n",
    "area = r**2*3.141592\n",
    "length = 2*r*3.141592\n",
    "print('원의 넓이 : ', area)\n",
    "print('원의 둘레 : ', length)"
   ]
  },
  {
   "cell_type": "markdown",
   "metadata": {},
   "source": [
    "문제3"
   ]
  },
  {
   "cell_type": "code",
   "execution_count": 5,
   "metadata": {},
   "outputs": [
    {
     "name": "stdout",
     "output_type": "stream",
     "text": [
      "다섯 자리 정수를 입력하시오:45678\n",
      "\n",
      "4 , 5 , 6 , 7 , 8\n",
      "\n",
      "프로그램을 끝내려면 엔터를 누르세요.\n",
      "\n"
     ]
    },
    {
     "data": {
      "text/plain": [
       "''"
      ]
     },
     "execution_count": 5,
     "metadata": {},
     "output_type": "execute_result"
    }
   ],
   "source": [
    "n = int(input('다섯 자리 정수를 입력하시오:'))\n",
    "print()\n",
    "\n",
    "n10000 = n//10000\n",
    "n = n%10000\n",
    "\n",
    "n1000 = n//1000\n",
    "n = n%1000\n",
    "\n",
    "n100 = n//100\n",
    "n = n%100\n",
    "\n",
    "n10 = n//10\n",
    "n1 = n%10\n",
    "\n",
    "print(n10000,',',n1000,',',n100,',',n10,',',n1)\n",
    "\n",
    "print()\n",
    "print('프로그램을 끝내려면 엔터를 누르세요.')\n",
    "input()"
   ]
  },
  {
   "cell_type": "code",
   "execution_count": null,
   "metadata": {},
   "outputs": [],
   "source": []
  }
 ],
 "metadata": {
  "kernelspec": {
   "display_name": "Python 3",
   "language": "python",
   "name": "python3"
  },
  "language_info": {
   "codemirror_mode": {
    "name": "ipython",
    "version": 3
   },
   "file_extension": ".py",
   "mimetype": "text/x-python",
   "name": "python",
   "nbconvert_exporter": "python",
   "pygments_lexer": "ipython3",
   "version": "3.7.1"
  }
 },
 "nbformat": 4,
 "nbformat_minor": 2
}
