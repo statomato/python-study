{
 "cells": [
  {
   "cell_type": "markdown",
   "metadata": {},
   "source": [
    "문제1"
   ]
  },
  {
   "cell_type": "code",
   "execution_count": 6,
   "metadata": {},
   "outputs": [
    {
     "name": "stdout",
     "output_type": "stream",
     "text": [
      "0 1 2 3 4 5 6 7 8 9 \n",
      "0 5 10 15 20 25 30 35 40 45 50 \n",
      "10 9 8 7 6 5 4 3 2 1 \n"
     ]
    }
   ],
   "source": [
    "for x in range(10):\n",
    "    print(x,end=' ')\n",
    "print()\n",
    "for x in range(0,51,5):\n",
    "    print(x,end=' ')\n",
    "print()\n",
    "for x in range(10,0,-1):\n",
    "    print(x,end=' ')\n",
    "print()"
   ]
  },
  {
   "cell_type": "markdown",
   "metadata": {},
   "source": [
    "문제2"
   ]
  },
  {
   "cell_type": "code",
   "execution_count": 7,
   "metadata": {},
   "outputs": [
    {
     "name": "stdout",
     "output_type": "stream",
     "text": [
      "성적을 입력하시오: 90\n",
      "성적을 입력하시오: 88\n",
      "성적을 입력하시오: 75\n",
      "성적을 입력하시오: 93\n",
      "성적을 입력하시오: 80\n",
      "\n",
      "입력한 성적들:  [90, 88, 75, 93, 80]\n",
      "최고 성적:  93\n",
      "최저 성적:  75\n",
      "평균: 85.200000\n"
     ]
    }
   ],
   "source": [
    "score = []\n",
    "\n",
    "for i in range(5):\n",
    "    data = int(input('성적을 입력하시오: '))\n",
    "    score.append(data)\n",
    "    \n",
    "print()\n",
    "print('입력한 성적들: ', score)\n",
    "print('최고 성적: ', max(score))\n",
    "print('최저 성적: ', min(score))\n",
    "\n",
    "average = sum(score)/len(score)\n",
    "\n",
    "print('평균: %2f'%average)"
   ]
  },
  {
   "cell_type": "markdown",
   "metadata": {},
   "source": [
    "문제3"
   ]
  },
  {
   "cell_type": "code",
   "execution_count": 11,
   "metadata": {},
   "outputs": [
    {
     "name": "stdout",
     "output_type": "stream",
     "text": [
      "1 번:  85.33333333333333\n",
      "2 번:  83.66666666666667\n",
      "3 번:  87.33333333333333\n",
      "4 번:  68.0\n",
      "5 번:  95.0\n"
     ]
    }
   ],
   "source": [
    "A = {1:[80,90,86],\n",
    "    2:[78,88,85],\n",
    "    3:[85,85,92],\n",
    "    4:[70,69,65],\n",
    "    5:[90,95,100]}\n",
    "\n",
    "for key,value in A.items():\n",
    "    print(key, '번: ', sum(value)/len(value))"
   ]
  },
  {
   "cell_type": "code",
   "execution_count": null,
   "metadata": {},
   "outputs": [],
   "source": []
  }
 ],
 "metadata": {
  "kernelspec": {
   "display_name": "Python 3",
   "language": "python",
   "name": "python3"
  },
  "language_info": {
   "codemirror_mode": {
    "name": "ipython",
    "version": 3
   },
   "file_extension": ".py",
   "mimetype": "text/x-python",
   "name": "python",
   "nbconvert_exporter": "python",
   "pygments_lexer": "ipython3",
   "version": "3.7.1"
  }
 },
 "nbformat": 4,
 "nbformat_minor": 2
}
