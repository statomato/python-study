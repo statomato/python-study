{
 "cells": [
  {
   "cell_type": "markdown",
   "metadata": {},
   "source": [
    "문제1"
   ]
  },
  {
   "cell_type": "code",
   "execution_count": 3,
   "metadata": {},
   "outputs": [
    {
     "name": "stdout",
     "output_type": "stream",
     "text": [
      "근무 시간을 입력하시오 : 20\n",
      "시간당 수당을 입력하시오 : 40000\n",
      "총 급여는  896000.0  원입니다.\n"
     ]
    }
   ],
   "source": [
    "time = int(input('근무 시간을 입력하시오 : '))\n",
    "sudang = int(input('시간당 수당을 입력하시오 : '))\n",
    "\n",
    "money = time*sudang\n",
    "if time >= 12:\n",
    "    add = (time-12)*sudang*0.3\n",
    "    money += add\n",
    "\n",
    "print('총 급여는 ',money,' 원입니다.')"
   ]
  },
  {
   "cell_type": "markdown",
   "metadata": {},
   "source": [
    "문제2"
   ]
  },
  {
   "cell_type": "code",
   "execution_count": 4,
   "metadata": {},
   "outputs": [
    {
     "name": "stdout",
     "output_type": "stream",
     "text": [
      "정수를 입력하시오 : 15\n",
      "\n",
      "1\n",
      "3\n",
      "5\n",
      "15\n",
      "\n",
      "15 의 약수의 개수: 4\n"
     ]
    }
   ],
   "source": [
    "num = int(input('정수를 입력하시오 : '))\n",
    "print()\n",
    "\n",
    "a = 1\n",
    "count = 0\n",
    "while a<= num:\n",
    "    if num % a == 0:\n",
    "        print(a)\n",
    "        count += 1\n",
    "    a += 1\n",
    "print()\n",
    "print(num,'의 약수의 개수:', count)"
   ]
  },
  {
   "cell_type": "markdown",
   "metadata": {},
   "source": [
    "문제3"
   ]
  },
  {
   "cell_type": "code",
   "execution_count": 5,
   "metadata": {},
   "outputs": [
    {
     "name": "stdout",
     "output_type": "stream",
     "text": [
      "정수를 입력하시오 : 4\n",
      "정수를 입력하시오 : 20\n",
      "정수를 입력하시오 : 15\n",
      "정수를 입력하시오 : 2\n",
      "정수를 입력하시오 : 8\n",
      "가장 큰 값 :  20\n"
     ]
    }
   ],
   "source": [
    "a1 = int(input('정수를 입력하시오 : '))\n",
    "a2 = int(input('정수를 입력하시오 : '))\n",
    "a3 = int(input('정수를 입력하시오 : '))\n",
    "a4 = int(input('정수를 입력하시오 : '))\n",
    "a5 = int(input('정수를 입력하시오 : '))\n",
    "\n",
    "result = max(a1,a2,a3,a4,a5)\n",
    "print()\n",
    "print('가장 큰 값 : ', result)"
   ]
  },
  {
   "cell_type": "code",
   "execution_count": 6,
   "metadata": {},
   "outputs": [
    {
     "name": "stdout",
     "output_type": "stream",
     "text": [
      "정수를입력하시오: 4\n",
      "정수를입력하시오: 20\n",
      "정수를입력하시오: 15\n",
      "정수를입력하시오: 2\n",
      "정수를입력하시오: 8\n",
      "\n",
      "가장큰값: 20\n"
     ]
    }
   ],
   "source": [
    "n = int(input('정수를입력하시오: '))\n",
    "max = n\n",
    "loop_count= 1\n",
    "while loop_count<= 4:\n",
    "    n = int(input('정수를입력하시오: '))\n",
    "    if n > max :\n",
    "        max = n\n",
    "    loop_count+= 1\n",
    "    \n",
    "print()\n",
    "print('가장큰값:', max)"
   ]
  },
  {
   "cell_type": "code",
   "execution_count": null,
   "metadata": {},
   "outputs": [],
   "source": []
  }
 ],
 "metadata": {
  "kernelspec": {
   "display_name": "Python 3",
   "language": "python",
   "name": "python3"
  },
  "language_info": {
   "codemirror_mode": {
    "name": "ipython",
    "version": 3
   },
   "file_extension": ".py",
   "mimetype": "text/x-python",
   "name": "python",
   "nbconvert_exporter": "python",
   "pygments_lexer": "ipython3",
   "version": "3.7.1"
  }
 },
 "nbformat": 4,
 "nbformat_minor": 2
}
